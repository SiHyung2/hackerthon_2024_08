{
 "cells": [
  {
   "cell_type": "code",
   "execution_count": 1,
   "metadata": {},
   "outputs": [
    {
     "ename": "ModuleNotFoundError",
     "evalue": "No module named 'ace_tools'",
     "output_type": "error",
     "traceback": [
      "\u001b[1;31m---------------------------------------------------------------------------\u001b[0m",
      "\u001b[1;31mModuleNotFoundError\u001b[0m                       Traceback (most recent call last)",
      "Cell \u001b[1;32mIn[1], line 34\u001b[0m\n\u001b[0;32m     25\u001b[0m yearly_data \u001b[38;5;241m=\u001b[39m pd\u001b[38;5;241m.\u001b[39mDataFrame({\n\u001b[0;32m     26\u001b[0m     \u001b[38;5;124m'\u001b[39m\u001b[38;5;124mTemperature\u001b[39m\u001b[38;5;124m'\u001b[39m: temperature_year,\n\u001b[0;32m     27\u001b[0m     \u001b[38;5;124m'\u001b[39m\u001b[38;5;124mHumidity\u001b[39m\u001b[38;5;124m'\u001b[39m: humidity_year,\n\u001b[1;32m   (...)\u001b[0m\n\u001b[0;32m     30\u001b[0m     \u001b[38;5;124m'\u001b[39m\u001b[38;5;124mPredicted Solar Power Output\u001b[39m\u001b[38;5;124m'\u001b[39m: solar_power_output_year\n\u001b[0;32m     31\u001b[0m })\n\u001b[0;32m     33\u001b[0m \u001b[38;5;66;03m# 1년치 태양광 발전량 데이터를 사용자에게 보여줌\u001b[39;00m\n\u001b[1;32m---> 34\u001b[0m \u001b[38;5;28;01mimport\u001b[39;00m \u001b[38;5;21;01mace_tools\u001b[39;00m \u001b[38;5;28;01mas\u001b[39;00m \u001b[38;5;21;01mtools\u001b[39;00m; tools\u001b[38;5;241m.\u001b[39mdisplay_dataframe_to_user(name\u001b[38;5;241m=\u001b[39m\u001b[38;5;124m\"\u001b[39m\u001b[38;5;124m1년치 태양광 발전 예측 데이터\u001b[39m\u001b[38;5;124m\"\u001b[39m, dataframe\u001b[38;5;241m=\u001b[39myearly_data)\n",
      "\u001b[1;31mModuleNotFoundError\u001b[0m: No module named 'ace_tools'"
     ]
    }
   ],
   "source": [
    "# 필요한 라이브러리 다시 불러오기\n",
    "import numpy as np\n",
    "import pandas as pd\n",
    "\n",
    "# 1년치(365일) 태양광 발전량 예측을 위한 데이터를 생성\n",
    "\n",
    "num_days = 365\n",
    "\n",
    "# 1년 동안의 기상 데이터 생성 (평균 기온, 습도, 풍속 및 태양 복사량)\n",
    "temperature_year = np.random.uniform(15, 35, num_days)  # 기온 (섭씨)\n",
    "humidity_year = np.random.uniform(30, 90, num_days)  # 습도 (%)\n",
    "wind_speed_year = np.random.uniform(0, 15, num_days)  # 풍속 (m/s)\n",
    "solar_irradiance_year = np.random.uniform(200, 1000, num_days)  # 태양 복사량 (W/m^2)\n",
    "\n",
    "# 목표 변수(태양광 발전량, kW) 예측\n",
    "solar_power_output_year = (\n",
    "    0.5 * solar_irradiance_year\n",
    "    + 0.3 * temperature_year\n",
    "    - 0.2 * humidity_year\n",
    "    + 0.05 * wind_speed_year\n",
    "    + np.random.normal(0, 10, num_days)  # 예측 오차 추가\n",
    ")\n",
    "\n",
    "# 데이터프레임으로 결합\n",
    "yearly_data = pd.DataFrame({\n",
    "    'Temperature': temperature_year,\n",
    "    'Humidity': humidity_year,\n",
    "    'Wind Speed': wind_speed_year,\n",
    "    'Solar Irradiance': solar_irradiance_year,\n",
    "    'Predicted Solar Power Output': solar_power_output_year\n",
    "})\n",
    "\n",
    "# 1년치 태양광 발전량 데이터를 사용자에게 보여줌\n",
    "import ace_tools as tools; tools.display_dataframe_to_user(name=\"1년치 태양광 발전 예측 데이터\", dataframe=yearly_data)\n"
   ]
  }
 ],
 "metadata": {
  "kernelspec": {
   "display_name": "Python 3",
   "language": "python",
   "name": "python3"
  },
  "language_info": {
   "codemirror_mode": {
    "name": "ipython",
    "version": 3
   },
   "file_extension": ".py",
   "mimetype": "text/x-python",
   "name": "python",
   "nbconvert_exporter": "python",
   "pygments_lexer": "ipython3",
   "version": "3.10.11"
  }
 },
 "nbformat": 4,
 "nbformat_minor": 2
}
