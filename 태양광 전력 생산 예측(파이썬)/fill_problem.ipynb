{
 "cells": [
  {
   "cell_type": "code",
   "execution_count": 17,
   "metadata": {},
   "outputs": [
    {
     "name": "stdout",
     "output_type": "stream",
     "text": [
      "최대 모듈 채우기 개수 : 2024개\n"
     ]
    }
   ],
   "source": [
    "# 입력 값\n",
    "module_width = 1000  # 모듈 가로, mm\n",
    "module_height = 2000  # 모듈 세로, mm\n",
    "site_width = 51000  # 설치할 부지 가로, mm (1m = 10,000mm)\n",
    "site_hieght = 100000 # 설치할 부지 세로, mm (1m = 10,000mm)\n",
    "\n",
    "\n",
    "\n",
    "# 모듈 사이에 거리 띄우기 (마진)     \n",
    "# 그림자, 공기 흐름, 온도, 사람 지나다닐 공간 등을 고려하여 15cm를 띄웠음\n",
    "module_total_width = module_width + 150\n",
    "module_total_height = module_height + 150\n",
    "\n",
    "# 모듈을 부지에 채우기\n",
    "module_width_count = site_width // module_total_width\n",
    "module_height_count = site_hieght // module_total_height\n",
    "count = module_width_count * module_height_count\n",
    "\n",
    "\n",
    "# 모듈의 가로 세로 바꾸고(옆으로 눕혀서) 부지에 채우기\n",
    "module_width_count = site_width // module_total_width\n",
    "module_height_count = site_hieght // module_total_height\n",
    "count2 = module_width_count * module_height_count\n",
    "\n",
    "\n",
    "# 둘 중 많이 카운트 된 것을 모듈 최대 개수로 계산\n",
    "if(count > count2):\n",
    "    module_max_count = count\n",
    "else :\n",
    "    module_max_count = count2\n",
    "\n",
    "print(f\"최대 모듈 채우기 개수 : {module_max_count}개\")\n"
   ]
  }
 ],
 "metadata": {
  "kernelspec": {
   "display_name": "Python 3",
   "language": "python",
   "name": "python3"
  },
  "language_info": {
   "codemirror_mode": {
    "name": "ipython",
    "version": 3
   },
   "file_extension": ".py",
   "mimetype": "text/x-python",
   "name": "python",
   "nbconvert_exporter": "python",
   "pygments_lexer": "ipython3",
   "version": "3.10.11"
  }
 },
 "nbformat": 4,
 "nbformat_minor": 2
}
