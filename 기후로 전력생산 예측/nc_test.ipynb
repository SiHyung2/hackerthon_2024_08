{
 "cells": [
  {
   "cell_type": "code",
   "execution_count": 2,
   "metadata": {},
   "outputs": [
    {
     "name": "stdout",
     "output_type": "stream",
     "text": [
      "변수 목록:\n",
      "dict_keys(['X', 'Y', 'SWDN_topo'])\n",
      "\n",
      "차원 목록:\n",
      "dict_keys(['X', 'Y'])\n",
      "\n",
      "변수: X\n",
      "<class 'netCDF4._netCDF4.Variable'>\n",
      "float64 X(X)\n",
      "    units: units\n",
      "    long_name: X\n",
      "unlimited dimensions: \n",
      "current shape = (6900,)\n",
      "filling on, default _FillValue of 9.969209968386869e+36 used\n",
      "\n",
      "변수: Y\n",
      "<class 'netCDF4._netCDF4.Variable'>\n",
      "float64 Y(Y)\n",
      "    units: units\n",
      "    long_name: Y\n",
      "unlimited dimensions: \n",
      "current shape = (6750,)\n",
      "filling on, default _FillValue of 9.969209968386869e+36 used\n",
      "\n",
      "변수: SWDN_topo\n",
      "<class 'netCDF4._netCDF4.Variable'>\n",
      "float32 SWDN_topo(Y, X)\n",
      "    units: W m-2\n",
      "    _FillValue: -999.0\n",
      "unlimited dimensions: \n",
      "current shape = (6750, 6900)\n",
      "filling on\n"
     ]
    }
   ],
   "source": [
    "import netCDF4 as nc\n",
    "\n",
    "# NetCDF 파일 열기\n",
    "file_path = './data/KMAPP_solar_TOPO_total_mean.nc'\n",
    "dataset = nc.Dataset(file_path, 'r')\n",
    "\n",
    "# 변수와 차원 목록 출력\n",
    "print(\"변수 목록:\")\n",
    "print(dataset.variables.keys())\n",
    "\n",
    "print(\"\\n차원 목록:\")\n",
    "print(dataset.dimensions.keys())\n",
    "\n",
    "# 각 변수의 정보 확인\n",
    "for var_name in dataset.variables:\n",
    "    print(f\"\\n변수: {var_name}\")\n",
    "    print(dataset.variables[var_name])\n",
    "\n",
    "# 파일 닫기\n",
    "dataset.close()\n"
   ]
  },
  {
   "cell_type": "code",
   "execution_count": 3,
   "metadata": {},
   "outputs": [
    {
     "ename": "FileNotFoundError",
     "evalue": "[Errno 2] No such file or directory: './KMAPP_solar_TOPO_total_mean.nc'",
     "output_type": "error",
     "traceback": [
      "\u001b[1;31m---------------------------------------------------------------------------\u001b[0m",
      "\u001b[1;31mFileNotFoundError\u001b[0m                         Traceback (most recent call last)",
      "Cell \u001b[1;32mIn[3], line 6\u001b[0m\n\u001b[0;32m      4\u001b[0m \u001b[38;5;66;03m# NetCDF 파일 열기\u001b[39;00m\n\u001b[0;32m      5\u001b[0m file_path \u001b[38;5;241m=\u001b[39m \u001b[38;5;124m'\u001b[39m\u001b[38;5;124m./KMAPP_solar_TOPO_total_mean.nc\u001b[39m\u001b[38;5;124m'\u001b[39m\n\u001b[1;32m----> 6\u001b[0m dataset \u001b[38;5;241m=\u001b[39m \u001b[43mnc\u001b[49m\u001b[38;5;241;43m.\u001b[39;49m\u001b[43mDataset\u001b[49m\u001b[43m(\u001b[49m\u001b[43mfile_path\u001b[49m\u001b[43m,\u001b[49m\u001b[43m \u001b[49m\u001b[38;5;124;43m'\u001b[39;49m\u001b[38;5;124;43mr\u001b[39;49m\u001b[38;5;124;43m'\u001b[39;49m\u001b[43m)\u001b[49m\n\u001b[0;32m      8\u001b[0m \u001b[38;5;66;03m# X와 Y 데이터 (경도와 위도에 해당)\u001b[39;00m\n\u001b[0;32m      9\u001b[0m x \u001b[38;5;241m=\u001b[39m dataset\u001b[38;5;241m.\u001b[39mvariables[\u001b[38;5;124m'\u001b[39m\u001b[38;5;124mX\u001b[39m\u001b[38;5;124m'\u001b[39m][:]\n",
      "File \u001b[1;32msrc\\\\netCDF4\\\\_netCDF4.pyx:2470\u001b[0m, in \u001b[0;36mnetCDF4._netCDF4.Dataset.__init__\u001b[1;34m()\u001b[0m\n",
      "File \u001b[1;32msrc\\\\netCDF4\\\\_netCDF4.pyx:2107\u001b[0m, in \u001b[0;36mnetCDF4._netCDF4._ensure_nc_success\u001b[1;34m()\u001b[0m\n",
      "\u001b[1;31mFileNotFoundError\u001b[0m: [Errno 2] No such file or directory: './KMAPP_solar_TOPO_total_mean.nc'"
     ]
    }
   ],
   "source": [
    "import netCDF4 as nc\n",
    "import numpy as np\n",
    "\n",
    "# NetCDF 파일 열기\n",
    "file_path = './KMAPP_solar_TOPO_total_mean.nc'\n",
    "dataset = nc.Dataset(file_path, 'r')\n",
    "\n",
    "# X와 Y 데이터 (경도와 위도에 해당)\n",
    "x = dataset.variables['X'][:]\n",
    "y = dataset.variables['Y'][:]\n",
    "\n",
    "# 주어진 좌표 (35.8567148, 128.4949977)\n",
    "target_lat = 35.8567148\n",
    "target_lon = 128.4949977\n",
    "\n",
    "# 좌표에 가장 가까운 격자점 찾기\n",
    "x_idx = np.abs(x - target_lon).argmin()  # X는 경도 (lon)\n",
    "y_idx = np.abs(y - target_lat).argmin()  # Y는 위도 (lat)\n",
    "\n",
    "# 'SWDN_topo' 데이터에서 해당 격자점의 일사량 추출 (2차원)\n",
    "solar_radiation = dataset.variables['SWDN_topo'][y_idx, x_idx]\n",
    "\n",
    "# 필요한 시점의 데이터를 출력\n",
    "print(f\"위도 {target_lat}, 경도 {target_lon}의 일사량 데이터:\")\n",
    "print(solar_radiation)\n",
    "\n",
    "# NetCDF 파일 닫기\n",
    "dataset.close()\n"
   ]
  }
 ],
 "metadata": {
  "kernelspec": {
   "display_name": "Python 3",
   "language": "python",
   "name": "python3"
  },
  "language_info": {
   "codemirror_mode": {
    "name": "ipython",
    "version": 3
   },
   "file_extension": ".py",
   "mimetype": "text/x-python",
   "name": "python",
   "nbconvert_exporter": "python",
   "pygments_lexer": "ipython3",
   "version": "3.10.11"
  }
 },
 "nbformat": 4,
 "nbformat_minor": 2
}
